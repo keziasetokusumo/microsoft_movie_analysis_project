{
 "cells": [
  {
   "cell_type": "markdown",
   "metadata": {},
   "source": [
    "# Phase 1 Project: Microsoft Movie Analysis"
   ]
  },
  {
   "cell_type": "markdown",
   "metadata": {},
   "source": [
    " * Name: Kezia Setokusumo\n",
    " * Pace: Flex, Oct 10 start \n",
    " * Scheduled review: Dec 16 \n",
    " * Instructor: Mark Barbour \n",
    " * [Blog](https://medium.com/@khs366/how-sql-became-a-ground-breaker-a0bfa03e704b)"
   ]
  },
  {
   "cell_type": "markdown",
   "metadata": {},
   "source": [
    "---\n",
    "## Overview and Business Problem\n",
    "Microsoft is looking to enter the film making space and their next venture is to launch a movie studio. As part of their plans to break into the industry, Microsoft needs to conduct an initial data analysis of current competitors to determine the types of movies they should produce. Popular movies in recent years can be linked to certain genres and persons. Microsoft can leverage this type of data analysis as time goes by to gain an understanding of the public's current preferences to operate their movie-making business."
   ]
  },
  {
   "cell_type": "markdown",
   "metadata": {},
   "source": [
    "## The Data\n",
    "Public databases from sources such as [IMDB](https://www.imdb.com/) and [Box Office Mojo](https://www.boxofficemojo.com/) can be leveraged to gain a better understanding of the type of movies that competitor studios are releasing. They contain relevant information such as release year, cast, genre, gross proceeds, and more. See an example of an IMDB entry from the TV series \"Wednesday\" [here](https://www.imdb.com/title/tt13443470/?ref_=hm_fanfav_tt_i_1_pd_fp1). See an example of a Box Office Mojo entry from the movie \"Black Panther: Wakanda Forever\" [here](https://www.boxofficemojo.com/release/rl3573908993/?ref_=bo_hm_rd).\n",
    "\n",
    "The below codes extract relevant data from the aforementioned sources to deliver concrete business recommendations to Microsoft ahead of their movie studio launch."
   ]
  },
  {
   "cell_type": "markdown",
   "metadata": {},
   "source": [
    "## Methods\n",
    "This project begins by analyzing basic facts about the movie, such as the typical run time in this case. The analysis then pivots to determine which studio has yeilded the most in total gross proceeds up to date - the purpose behind this is to understand which company is currently leading the space. From there, Microsoft can narrow their focus to study the type of movies genres that the leading studio's best movies produces most often. Lastly, this project identifies financially successful directors to provide Microsoft with an initial direction of who to involve in their projects."
   ]
  },
  {
   "cell_type": "markdown",
   "metadata": {},
   "source": [
    "## Results and Code\n",
    "The following codes illustrate the methods used to synthesize and clean the information retrieved from external movie databases -- we begin by importing all the libraries and relevant files"
   ]
  },
  {
   "cell_type": "code",
   "execution_count": 1,
   "metadata": {},
   "outputs": [],
   "source": [
    "# Import libraries and connect to SQLite database\n",
    "import pandas as pd\n",
    "import csv\n",
    "import sqlite3\n",
    "import matplotlib.pyplot as plt\n",
    "fin_data=pd.read_csv('bom.movie_gross.csv')\n",
    "con=sqlite3.connect('im.db')"
   ]
  },
  {
   "cell_type": "markdown",
   "metadata": {},
   "source": [
    "### Movie Durations\n",
    "Though this may seem like a minor detail, understanding typical movie durations is significant so that studios can structure their storyline to fit within a given timeframe in a way that captures the audience's attention"
   ]
  },
  {
   "cell_type": "code",
   "execution_count": 2,
   "metadata": {},
   "outputs": [
    {
     "data": {
      "text/plain": [
       "Text(0, 0.5, 'Frequency')"
      ]
     },
     "execution_count": 2,
     "metadata": {},
     "output_type": "execute_result"
    },
    {
     "data": {
      "image/png": "[encoded data removed]",
      "text/plain": [
       "<Figure size 1080x360 with 1 Axes>"
      ]
     },
     "metadata": {
      "needs_background": "light"
     },
     "output_type": "display_data"
    }
   ],
   "source": [
    "# Start with a very general analysis of typical movie traits\n",
    "# Visualize duration data to get an idea of the typical length of a movie\n",
    "rt_data=pd.read_sql(\"\"\"SELECT runtime_minutes FROM movie_basics\"\"\", con)\n",
    "rt_data=rt_data.dropna()\n",
    "rt_data.plot.hist(bins=10, range=(0,300), figsize=(15,5), color='orange', fontsize=12)\n",
    "plt.title(\"Histogram of Movie Durations\", fontsize=20)\n",
    "plt.xlabel(\"Duration\", fontsize=18)\n",
    "plt.ylabel(\"Frequency\", fontsize=18)"
   ]
  },
  {
   "cell_type": "code",
   "execution_count": 3,
   "metadata": {},
   "outputs": [
    {
     "name": "stdout",
     "output_type": "stream",
     "text": [
      "Most movies have a runtime between 75-100 minutes, with the average runtime at around 86 minutes\n"
     ]
    }
   ],
   "source": [
    "# Pull average runtime to understand the graph better\n",
    "pd.read_sql(\"\"\"SELECT AVG(runtime_minutes) FROM movie_basics\"\"\", con)\n",
    "\n",
    "# Average value is 86.187247 minutes\n",
    "print(\"Most movies have a runtime between 75-100 minutes, with the average runtime at around 86 minutes\")"
   ]
  },
  {
   "cell_type": "markdown",
   "metadata": {},
   "source": [
    "### Most financially successful studio based on gross proceeds\n",
    "When entering a new industry, it makes sense to look at current players in the space alongside their financials to understand which company is performing well and to capitalize on competitive advantages that they may lack"
   ]
  },
  {
   "cell_type": "code",
   "execution_count": 4,
   "metadata": {},
   "outputs": [
    {
     "data": {
      "text/html": [
       "<div>\n",
       "<style scoped>\n",
       "    .dataframe tbody tr th:only-of-type {\n",
       "        vertical-align: middle;\n",
       "    }\n",
       "\n",
       "    .dataframe tbody tr th {\n",
       "        vertical-align: top;\n",
       "    }\n",
       "\n",
       "    .dataframe thead th {\n",
       "        text-align: right;\n",
       "    }\n",
       "</style>\n",
       "<table border=\"1\" class=\"dataframe\">\n",
       "  <thead>\n",
       "    <tr style=\"text-align: right;\">\n",
       "      <th></th>\n",
       "      <th>title</th>\n",
       "      <th>studio</th>\n",
       "      <th>domestic_gross</th>\n",
       "      <th>foreign_gross</th>\n",
       "      <th>year</th>\n",
       "    </tr>\n",
       "  </thead>\n",
       "  <tbody>\n",
       "    <tr>\n",
       "      <th>0</th>\n",
       "      <td>Toy Story 3</td>\n",
       "      <td>BV</td>\n",
       "      <td>415000000.0</td>\n",
       "      <td>652000000</td>\n",
       "      <td>2010</td>\n",
       "    </tr>\n",
       "    <tr>\n",
       "      <th>1</th>\n",
       "      <td>Alice in Wonderland (2010)</td>\n",
       "      <td>BV</td>\n",
       "      <td>334200000.0</td>\n",
       "      <td>691300000</td>\n",
       "      <td>2010</td>\n",
       "    </tr>\n",
       "    <tr>\n",
       "      <th>2</th>\n",
       "      <td>Harry Potter and the Deathly Hallows Part 1</td>\n",
       "      <td>WB</td>\n",
       "      <td>296000000.0</td>\n",
       "      <td>664300000</td>\n",
       "      <td>2010</td>\n",
       "    </tr>\n",
       "    <tr>\n",
       "      <th>3</th>\n",
       "      <td>Inception</td>\n",
       "      <td>WB</td>\n",
       "      <td>292600000.0</td>\n",
       "      <td>535700000</td>\n",
       "      <td>2010</td>\n",
       "    </tr>\n",
       "    <tr>\n",
       "      <th>4</th>\n",
       "      <td>Shrek Forever After</td>\n",
       "      <td>P/DW</td>\n",
       "      <td>238700000.0</td>\n",
       "      <td>513900000</td>\n",
       "      <td>2010</td>\n",
       "    </tr>\n",
       "    <tr>\n",
       "      <th>...</th>\n",
       "      <td>...</td>\n",
       "      <td>...</td>\n",
       "      <td>...</td>\n",
       "      <td>...</td>\n",
       "      <td>...</td>\n",
       "    </tr>\n",
       "    <tr>\n",
       "      <th>3382</th>\n",
       "      <td>The Quake</td>\n",
       "      <td>Magn.</td>\n",
       "      <td>6200.0</td>\n",
       "      <td>NaN</td>\n",
       "      <td>2018</td>\n",
       "    </tr>\n",
       "    <tr>\n",
       "      <th>3383</th>\n",
       "      <td>Edward II (2018 re-release)</td>\n",
       "      <td>FM</td>\n",
       "      <td>4800.0</td>\n",
       "      <td>NaN</td>\n",
       "      <td>2018</td>\n",
       "    </tr>\n",
       "    <tr>\n",
       "      <th>3384</th>\n",
       "      <td>El Pacto</td>\n",
       "      <td>Sony</td>\n",
       "      <td>2500.0</td>\n",
       "      <td>NaN</td>\n",
       "      <td>2018</td>\n",
       "    </tr>\n",
       "    <tr>\n",
       "      <th>3385</th>\n",
       "      <td>The Swan</td>\n",
       "      <td>Synergetic</td>\n",
       "      <td>2400.0</td>\n",
       "      <td>NaN</td>\n",
       "      <td>2018</td>\n",
       "    </tr>\n",
       "    <tr>\n",
       "      <th>3386</th>\n",
       "      <td>An Actor Prepares</td>\n",
       "      <td>Grav.</td>\n",
       "      <td>1700.0</td>\n",
       "      <td>NaN</td>\n",
       "      <td>2018</td>\n",
       "    </tr>\n",
       "  </tbody>\n",
       "</table>\n",
       "<p>3387 rows × 5 columns</p>\n",
       "</div>"
      ],
      "text/plain": [
       "                                            title      studio  domestic_gross  \\\n",
       "0                                     Toy Story 3          BV     415000000.0   \n",
       "1                      Alice in Wonderland (2010)          BV     334200000.0   \n",
       "2     Harry Potter and the Deathly Hallows Part 1          WB     296000000.0   \n",
       "3                                       Inception          WB     292600000.0   \n",
       "4                             Shrek Forever After        P/DW     238700000.0   \n",
       "...                                           ...         ...             ...   \n",
       "3382                                    The Quake       Magn.          6200.0   \n",
       "3383                  Edward II (2018 re-release)          FM          4800.0   \n",
       "3384                                     El Pacto        Sony          2500.0   \n",
       "3385                                     The Swan  Synergetic          2400.0   \n",
       "3386                            An Actor Prepares       Grav.          1700.0   \n",
       "\n",
       "     foreign_gross  year  \n",
       "0        652000000  2010  \n",
       "1        691300000  2010  \n",
       "2        664300000  2010  \n",
       "3        535700000  2010  \n",
       "4        513900000  2010  \n",
       "...            ...   ...  \n",
       "3382           NaN  2018  \n",
       "3383           NaN  2018  \n",
       "3384           NaN  2018  \n",
       "3385           NaN  2018  \n",
       "3386           NaN  2018  \n",
       "\n",
       "[3387 rows x 5 columns]"
      ]
     },
     "execution_count": 4,
     "metadata": {},
     "output_type": "execute_result"
    }
   ],
   "source": [
    "# Display data from BOM showing gross proceeds\n",
    "fin_data"
   ]
  },
  {
   "cell_type": "code",
   "execution_count": 5,
   "metadata": {},
   "outputs": [
    {
     "data": {
      "text/html": [
       "<div>\n",
       "<style scoped>\n",
       "    .dataframe tbody tr th:only-of-type {\n",
       "        vertical-align: middle;\n",
       "    }\n",
       "\n",
       "    .dataframe tbody tr th {\n",
       "        vertical-align: top;\n",
       "    }\n",
       "\n",
       "    .dataframe thead th {\n",
       "        text-align: right;\n",
       "    }\n",
       "</style>\n",
       "<table border=\"1\" class=\"dataframe\">\n",
       "  <thead>\n",
       "    <tr style=\"text-align: right;\">\n",
       "      <th></th>\n",
       "      <th>title</th>\n",
       "      <th>studio</th>\n",
       "      <th>domestic_gross</th>\n",
       "      <th>foreign_gross</th>\n",
       "      <th>year</th>\n",
       "    </tr>\n",
       "  </thead>\n",
       "  <tbody>\n",
       "    <tr>\n",
       "      <th>0</th>\n",
       "      <td>Toy Story 3</td>\n",
       "      <td>BV</td>\n",
       "      <td>415000000.0</td>\n",
       "      <td>652000000</td>\n",
       "      <td>2010</td>\n",
       "    </tr>\n",
       "    <tr>\n",
       "      <th>1</th>\n",
       "      <td>Alice in Wonderland (2010)</td>\n",
       "      <td>BV</td>\n",
       "      <td>334200000.0</td>\n",
       "      <td>691300000</td>\n",
       "      <td>2010</td>\n",
       "    </tr>\n",
       "    <tr>\n",
       "      <th>2</th>\n",
       "      <td>Harry Potter and the Deathly Hallows Part 1</td>\n",
       "      <td>WB</td>\n",
       "      <td>296000000.0</td>\n",
       "      <td>664300000</td>\n",
       "      <td>2010</td>\n",
       "    </tr>\n",
       "    <tr>\n",
       "      <th>3</th>\n",
       "      <td>Inception</td>\n",
       "      <td>WB</td>\n",
       "      <td>292600000.0</td>\n",
       "      <td>535700000</td>\n",
       "      <td>2010</td>\n",
       "    </tr>\n",
       "    <tr>\n",
       "      <th>4</th>\n",
       "      <td>Shrek Forever After</td>\n",
       "      <td>P/DW</td>\n",
       "      <td>238700000.0</td>\n",
       "      <td>513900000</td>\n",
       "      <td>2010</td>\n",
       "    </tr>\n",
       "    <tr>\n",
       "      <th>...</th>\n",
       "      <td>...</td>\n",
       "      <td>...</td>\n",
       "      <td>...</td>\n",
       "      <td>...</td>\n",
       "      <td>...</td>\n",
       "    </tr>\n",
       "    <tr>\n",
       "      <th>3382</th>\n",
       "      <td>The Quake</td>\n",
       "      <td>Magn.</td>\n",
       "      <td>6200.0</td>\n",
       "      <td>0</td>\n",
       "      <td>2018</td>\n",
       "    </tr>\n",
       "    <tr>\n",
       "      <th>3383</th>\n",
       "      <td>Edward II (2018 re-release)</td>\n",
       "      <td>FM</td>\n",
       "      <td>4800.0</td>\n",
       "      <td>0</td>\n",
       "      <td>2018</td>\n",
       "    </tr>\n",
       "    <tr>\n",
       "      <th>3384</th>\n",
       "      <td>El Pacto</td>\n",
       "      <td>Sony</td>\n",
       "      <td>2500.0</td>\n",
       "      <td>0</td>\n",
       "      <td>2018</td>\n",
       "    </tr>\n",
       "    <tr>\n",
       "      <th>3385</th>\n",
       "      <td>The Swan</td>\n",
       "      <td>Synergetic</td>\n",
       "      <td>2400.0</td>\n",
       "      <td>0</td>\n",
       "      <td>2018</td>\n",
       "    </tr>\n",
       "    <tr>\n",
       "      <th>3386</th>\n",
       "      <td>An Actor Prepares</td>\n",
       "      <td>Grav.</td>\n",
       "      <td>1700.0</td>\n",
       "      <td>0</td>\n",
       "      <td>2018</td>\n",
       "    </tr>\n",
       "  </tbody>\n",
       "</table>\n",
       "<p>3387 rows × 5 columns</p>\n",
       "</div>"
      ],
      "text/plain": [
       "                                            title      studio  domestic_gross  \\\n",
       "0                                     Toy Story 3          BV     415000000.0   \n",
       "1                      Alice in Wonderland (2010)          BV     334200000.0   \n",
       "2     Harry Potter and the Deathly Hallows Part 1          WB     296000000.0   \n",
       "3                                       Inception          WB     292600000.0   \n",
       "4                             Shrek Forever After        P/DW     238700000.0   \n",
       "...                                           ...         ...             ...   \n",
       "3382                                    The Quake       Magn.          6200.0   \n",
       "3383                  Edward II (2018 re-release)          FM          4800.0   \n",
       "3384                                     El Pacto        Sony          2500.0   \n",
       "3385                                     The Swan  Synergetic          2400.0   \n",
       "3386                            An Actor Prepares       Grav.          1700.0   \n",
       "\n",
       "     foreign_gross  year  \n",
       "0        652000000  2010  \n",
       "1        691300000  2010  \n",
       "2        664300000  2010  \n",
       "3        535700000  2010  \n",
       "4        513900000  2010  \n",
       "...            ...   ...  \n",
       "3382             0  2018  \n",
       "3383             0  2018  \n",
       "3384             0  2018  \n",
       "3385             0  2018  \n",
       "3386             0  2018  \n",
       "\n",
       "[3387 rows x 5 columns]"
      ]
     },
     "execution_count": 5,
     "metadata": {},
     "output_type": "execute_result"
    }
   ],
   "source": [
    "# Clean data by replacing null values in domestic_gross and foreign_gross columns\n",
    "fin_data['foreign_gross'].fillna(0, inplace=True)\n",
    "fin_data['domestic_gross'].fillna(0, inplace=True)\n",
    "\n",
    "# Spot check\n",
    "fin_data"
   ]
  },
  {
   "cell_type": "code",
   "execution_count": 6,
   "metadata": {},
   "outputs": [
    {
     "name": "stdout",
     "output_type": "stream",
     "text": [
      "title              object\n",
      "studio             object\n",
      "domestic_gross    float64\n",
      "foreign_gross      object\n",
      "year                int64\n",
      "dtype: object\n"
     ]
    }
   ],
   "source": [
    "# Check data types of each column before continuing\n",
    "print(fin_data.dtypes)"
   ]
  },
  {
   "cell_type": "code",
   "execution_count": 7,
   "metadata": {},
   "outputs": [],
   "source": [
    "# Convert foreign_gross column into float; initial run had an error due to ',' separator\n",
    "# Replace ',' so values can be converted into a float\n",
    "fin_data.replace(',','', regex=True, inplace=True)\n",
    "fin_data['foreign_gross']=fin_data['foreign_gross'].astype(float)"
   ]
  },
  {
   "cell_type": "code",
   "execution_count": 8,
   "metadata": {},
   "outputs": [
    {
     "data": {
      "text/html": [
       "<div>\n",
       "<style scoped>\n",
       "    .dataframe tbody tr th:only-of-type {\n",
       "        vertical-align: middle;\n",
       "    }\n",
       "\n",
       "    .dataframe tbody tr th {\n",
       "        vertical-align: top;\n",
       "    }\n",
       "\n",
       "    .dataframe thead th {\n",
       "        text-align: right;\n",
       "    }\n",
       "</style>\n",
       "<table border=\"1\" class=\"dataframe\">\n",
       "  <thead>\n",
       "    <tr style=\"text-align: right;\">\n",
       "      <th></th>\n",
       "      <th>title</th>\n",
       "      <th>studio</th>\n",
       "      <th>domestic_gross</th>\n",
       "      <th>foreign_gross</th>\n",
       "      <th>year</th>\n",
       "      <th>total_gross</th>\n",
       "    </tr>\n",
       "  </thead>\n",
       "  <tbody>\n",
       "    <tr>\n",
       "      <th>0</th>\n",
       "      <td>Toy Story 3</td>\n",
       "      <td>BV</td>\n",
       "      <td>415000000.0</td>\n",
       "      <td>652000000.0</td>\n",
       "      <td>2010</td>\n",
       "      <td>1067000000</td>\n",
       "    </tr>\n",
       "    <tr>\n",
       "      <th>1</th>\n",
       "      <td>Alice in Wonderland (2010)</td>\n",
       "      <td>BV</td>\n",
       "      <td>334200000.0</td>\n",
       "      <td>691300000.0</td>\n",
       "      <td>2010</td>\n",
       "      <td>1025500000</td>\n",
       "    </tr>\n",
       "    <tr>\n",
       "      <th>2</th>\n",
       "      <td>Harry Potter and the Deathly Hallows Part 1</td>\n",
       "      <td>WB</td>\n",
       "      <td>296000000.0</td>\n",
       "      <td>664300000.0</td>\n",
       "      <td>2010</td>\n",
       "      <td>960300000</td>\n",
       "    </tr>\n",
       "    <tr>\n",
       "      <th>3</th>\n",
       "      <td>Inception</td>\n",
       "      <td>WB</td>\n",
       "      <td>292600000.0</td>\n",
       "      <td>535700000.0</td>\n",
       "      <td>2010</td>\n",
       "      <td>828300000</td>\n",
       "    </tr>\n",
       "    <tr>\n",
       "      <th>4</th>\n",
       "      <td>Shrek Forever After</td>\n",
       "      <td>P/DW</td>\n",
       "      <td>238700000.0</td>\n",
       "      <td>513900000.0</td>\n",
       "      <td>2010</td>\n",
       "      <td>752600000</td>\n",
       "    </tr>\n",
       "    <tr>\n",
       "      <th>...</th>\n",
       "      <td>...</td>\n",
       "      <td>...</td>\n",
       "      <td>...</td>\n",
       "      <td>...</td>\n",
       "      <td>...</td>\n",
       "      <td>...</td>\n",
       "    </tr>\n",
       "    <tr>\n",
       "      <th>3382</th>\n",
       "      <td>The Quake</td>\n",
       "      <td>Magn.</td>\n",
       "      <td>6200.0</td>\n",
       "      <td>0.0</td>\n",
       "      <td>2018</td>\n",
       "      <td>6200</td>\n",
       "    </tr>\n",
       "    <tr>\n",
       "      <th>3383</th>\n",
       "      <td>Edward II (2018 re-release)</td>\n",
       "      <td>FM</td>\n",
       "      <td>4800.0</td>\n",
       "      <td>0.0</td>\n",
       "      <td>2018</td>\n",
       "      <td>4800</td>\n",
       "    </tr>\n",
       "    <tr>\n",
       "      <th>3384</th>\n",
       "      <td>El Pacto</td>\n",
       "      <td>Sony</td>\n",
       "      <td>2500.0</td>\n",
       "      <td>0.0</td>\n",
       "      <td>2018</td>\n",
       "      <td>2500</td>\n",
       "    </tr>\n",
       "    <tr>\n",
       "      <th>3385</th>\n",
       "      <td>The Swan</td>\n",
       "      <td>Synergetic</td>\n",
       "      <td>2400.0</td>\n",
       "      <td>0.0</td>\n",
       "      <td>2018</td>\n",
       "      <td>2400</td>\n",
       "    </tr>\n",
       "    <tr>\n",
       "      <th>3386</th>\n",
       "      <td>An Actor Prepares</td>\n",
       "      <td>Grav.</td>\n",
       "      <td>1700.0</td>\n",
       "      <td>0.0</td>\n",
       "      <td>2018</td>\n",
       "      <td>1700</td>\n",
       "    </tr>\n",
       "  </tbody>\n",
       "</table>\n",
       "<p>3387 rows × 6 columns</p>\n",
       "</div>"
      ],
      "text/plain": [
       "                                            title      studio  domestic_gross  \\\n",
       "0                                     Toy Story 3          BV     415000000.0   \n",
       "1                      Alice in Wonderland (2010)          BV     334200000.0   \n",
       "2     Harry Potter and the Deathly Hallows Part 1          WB     296000000.0   \n",
       "3                                       Inception          WB     292600000.0   \n",
       "4                             Shrek Forever After        P/DW     238700000.0   \n",
       "...                                           ...         ...             ...   \n",
       "3382                                    The Quake       Magn.          6200.0   \n",
       "3383                  Edward II (2018 re-release)          FM          4800.0   \n",
       "3384                                     El Pacto        Sony          2500.0   \n",
       "3385                                     The Swan  Synergetic          2400.0   \n",
       "3386                            An Actor Prepares       Grav.          1700.0   \n",
       "\n",
       "      foreign_gross  year  total_gross  \n",
       "0       652000000.0  2010   1067000000  \n",
       "1       691300000.0  2010   1025500000  \n",
       "2       664300000.0  2010    960300000  \n",
       "3       535700000.0  2010    828300000  \n",
       "4       513900000.0  2010    752600000  \n",
       "...             ...   ...          ...  \n",
       "3382            0.0  2018         6200  \n",
       "3383            0.0  2018         4800  \n",
       "3384            0.0  2018         2500  \n",
       "3385            0.0  2018         2400  \n",
       "3386            0.0  2018         1700  \n",
       "\n",
       "[3387 rows x 6 columns]"
      ]
     },
     "execution_count": 8,
     "metadata": {},
     "output_type": "execute_result"
    }
   ],
   "source": [
    "# Create new column with total gross proceeds\n",
    "fin_data['total_gross']=fin_data['domestic_gross']+fin_data['foreign_gross']\n",
    "fin_data['total_gross']=fin_data['total_gross'].astype('int64')\n",
    "\n",
    "# Spot Check\n",
    "fin_data"
   ]
  },
  {
   "cell_type": "code",
   "execution_count": 9,
   "metadata": {},
   "outputs": [
    {
     "data": {
      "text/html": [
       "<div>\n",
       "<style scoped>\n",
       "    .dataframe tbody tr th:only-of-type {\n",
       "        vertical-align: middle;\n",
       "    }\n",
       "\n",
       "    .dataframe tbody tr th {\n",
       "        vertical-align: top;\n",
       "    }\n",
       "\n",
       "    .dataframe thead th {\n",
       "        text-align: right;\n",
       "    }\n",
       "</style>\n",
       "<table border=\"1\" class=\"dataframe\">\n",
       "  <thead>\n",
       "    <tr style=\"text-align: right;\">\n",
       "      <th></th>\n",
       "      <th>studio_name</th>\n",
       "      <th>total_movies_produced</th>\n",
       "    </tr>\n",
       "  </thead>\n",
       "  <tbody>\n",
       "    <tr>\n",
       "      <th>0</th>\n",
       "      <td>IFC</td>\n",
       "      <td>166</td>\n",
       "    </tr>\n",
       "    <tr>\n",
       "      <th>1</th>\n",
       "      <td>Uni.</td>\n",
       "      <td>147</td>\n",
       "    </tr>\n",
       "    <tr>\n",
       "      <th>2</th>\n",
       "      <td>WB</td>\n",
       "      <td>140</td>\n",
       "    </tr>\n",
       "    <tr>\n",
       "      <th>3</th>\n",
       "      <td>Magn.</td>\n",
       "      <td>136</td>\n",
       "    </tr>\n",
       "    <tr>\n",
       "      <th>4</th>\n",
       "      <td>Fox</td>\n",
       "      <td>136</td>\n",
       "    </tr>\n",
       "    <tr>\n",
       "      <th>...</th>\n",
       "      <td>...</td>\n",
       "      <td>...</td>\n",
       "    </tr>\n",
       "    <tr>\n",
       "      <th>252</th>\n",
       "      <td>Part.</td>\n",
       "      <td>1</td>\n",
       "    </tr>\n",
       "    <tr>\n",
       "      <th>253</th>\n",
       "      <td>Libre</td>\n",
       "      <td>1</td>\n",
       "    </tr>\n",
       "    <tr>\n",
       "      <th>254</th>\n",
       "      <td>KS</td>\n",
       "      <td>1</td>\n",
       "    </tr>\n",
       "    <tr>\n",
       "      <th>255</th>\n",
       "      <td>Cleopatra</td>\n",
       "      <td>1</td>\n",
       "    </tr>\n",
       "    <tr>\n",
       "      <th>256</th>\n",
       "      <td>Linn</td>\n",
       "      <td>1</td>\n",
       "    </tr>\n",
       "  </tbody>\n",
       "</table>\n",
       "<p>257 rows × 2 columns</p>\n",
       "</div>"
      ],
      "text/plain": [
       "    studio_name  total_movies_produced\n",
       "0           IFC                    166\n",
       "1          Uni.                    147\n",
       "2            WB                    140\n",
       "3         Magn.                    136\n",
       "4           Fox                    136\n",
       "..          ...                    ...\n",
       "252       Part.                      1\n",
       "253       Libre                      1\n",
       "254          KS                      1\n",
       "255   Cleopatra                      1\n",
       "256        Linn                      1\n",
       "\n",
       "[257 rows x 2 columns]"
      ]
     },
     "execution_count": 9,
     "metadata": {},
     "output_type": "execute_result"
    }
   ],
   "source": [
    "# Determine how many movies each studio has produced\n",
    "# Take value_counts() and turn its output into a dataframe\n",
    "st_movies = fin_data['studio'].value_counts()\n",
    "df_st_movies = pd.DataFrame(st_movies)\n",
    "df_st_movies = df_st_movies.reset_index()\n",
    "df_st_movies.columns = ['studio_name', 'total_movies_produced']\n",
    "df_st_movies"
   ]
  },
  {
   "cell_type": "code",
   "execution_count": 10,
   "metadata": {},
   "outputs": [
    {
     "data": {
      "text/html": [
       "<div>\n",
       "<style scoped>\n",
       "    .dataframe tbody tr th:only-of-type {\n",
       "        vertical-align: middle;\n",
       "    }\n",
       "\n",
       "    .dataframe tbody tr th {\n",
       "        vertical-align: top;\n",
       "    }\n",
       "\n",
       "    .dataframe thead th {\n",
       "        text-align: right;\n",
       "    }\n",
       "</style>\n",
       "<table border=\"1\" class=\"dataframe\">\n",
       "  <thead>\n",
       "    <tr style=\"text-align: right;\">\n",
       "      <th></th>\n",
       "      <th>domestic_gross</th>\n",
       "      <th>foreign_gross</th>\n",
       "      <th>total_gross</th>\n",
       "      <th>total_movies_produced</th>\n",
       "      <th>avg_gross</th>\n",
       "    </tr>\n",
       "    <tr>\n",
       "      <th>studio</th>\n",
       "      <th></th>\n",
       "      <th></th>\n",
       "      <th></th>\n",
       "      <th></th>\n",
       "      <th></th>\n",
       "    </tr>\n",
       "  </thead>\n",
       "  <tbody>\n",
       "    <tr>\n",
       "      <th>HC</th>\n",
       "      <td>2700000</td>\n",
       "      <td>867600000</td>\n",
       "      <td>870300000</td>\n",
       "      <td>1</td>\n",
       "      <td>870300000</td>\n",
       "    </tr>\n",
       "    <tr>\n",
       "      <th>P/DW</th>\n",
       "      <td>1682900000</td>\n",
       "      <td>3393600000</td>\n",
       "      <td>5076500000</td>\n",
       "      <td>10</td>\n",
       "      <td>507650000</td>\n",
       "    </tr>\n",
       "    <tr>\n",
       "      <th>BV</th>\n",
       "      <td>18419029199</td>\n",
       "      <td>25793854700</td>\n",
       "      <td>44212883898</td>\n",
       "      <td>106</td>\n",
       "      <td>417102678</td>\n",
       "    </tr>\n",
       "    <tr>\n",
       "      <th>GrtIndia</th>\n",
       "      <td>20200000</td>\n",
       "      <td>234000000</td>\n",
       "      <td>254200000</td>\n",
       "      <td>1</td>\n",
       "      <td>254200000</td>\n",
       "    </tr>\n",
       "    <tr>\n",
       "      <th>WB (NL)</th>\n",
       "      <td>3995699999</td>\n",
       "      <td>6339000000</td>\n",
       "      <td>10334699999</td>\n",
       "      <td>45</td>\n",
       "      <td>229659999</td>\n",
       "    </tr>\n",
       "    <tr>\n",
       "      <th>...</th>\n",
       "      <td>...</td>\n",
       "      <td>...</td>\n",
       "      <td>...</td>\n",
       "      <td>...</td>\n",
       "      <td>...</td>\n",
       "    </tr>\n",
       "    <tr>\n",
       "      <th>BSM</th>\n",
       "      <td>5100</td>\n",
       "      <td>0</td>\n",
       "      <td>5100</td>\n",
       "      <td>1</td>\n",
       "      <td>5100</td>\n",
       "    </tr>\n",
       "    <tr>\n",
       "      <th>TAFC</th>\n",
       "      <td>4600</td>\n",
       "      <td>0</td>\n",
       "      <td>4600</td>\n",
       "      <td>1</td>\n",
       "      <td>4600</td>\n",
       "    </tr>\n",
       "    <tr>\n",
       "      <th>Hiber</th>\n",
       "      <td>3600</td>\n",
       "      <td>0</td>\n",
       "      <td>3600</td>\n",
       "      <td>1</td>\n",
       "      <td>3600</td>\n",
       "    </tr>\n",
       "    <tr>\n",
       "      <th>ALP</th>\n",
       "      <td>2800</td>\n",
       "      <td>0</td>\n",
       "      <td>2800</td>\n",
       "      <td>1</td>\n",
       "      <td>2800</td>\n",
       "    </tr>\n",
       "    <tr>\n",
       "      <th>Synergetic</th>\n",
       "      <td>2400</td>\n",
       "      <td>0</td>\n",
       "      <td>2400</td>\n",
       "      <td>1</td>\n",
       "      <td>2400</td>\n",
       "    </tr>\n",
       "  </tbody>\n",
       "</table>\n",
       "<p>257 rows × 5 columns</p>\n",
       "</div>"
      ],
      "text/plain": [
       "            domestic_gross  foreign_gross  total_gross  total_movies_produced  \\\n",
       "studio                                                                          \n",
       "HC                 2700000      867600000    870300000                      1   \n",
       "P/DW            1682900000     3393600000   5076500000                     10   \n",
       "BV             18419029199    25793854700  44212883898                    106   \n",
       "GrtIndia          20200000      234000000    254200000                      1   \n",
       "WB (NL)         3995699999     6339000000  10334699999                     45   \n",
       "...                    ...            ...          ...                    ...   \n",
       "BSM                   5100              0         5100                      1   \n",
       "TAFC                  4600              0         4600                      1   \n",
       "Hiber                 3600              0         3600                      1   \n",
       "ALP                   2800              0         2800                      1   \n",
       "Synergetic            2400              0         2400                      1   \n",
       "\n",
       "            avg_gross  \n",
       "studio                 \n",
       "HC          870300000  \n",
       "P/DW        507650000  \n",
       "BV          417102678  \n",
       "GrtIndia    254200000  \n",
       "WB (NL)     229659999  \n",
       "...               ...  \n",
       "BSM              5100  \n",
       "TAFC             4600  \n",
       "Hiber            3600  \n",
       "ALP              2800  \n",
       "Synergetic       2400  \n",
       "\n",
       "[257 rows x 5 columns]"
      ]
     },
     "execution_count": 10,
     "metadata": {},
     "output_type": "execute_result"
    }
   ],
   "source": [
    "# Group the fin_data dataframe by studio and sum the total proceeds from each of its movies\n",
    "grouped=fin_data.groupby('studio').sum('total_gross')\n",
    "\n",
    "# Create a new dataframe by joining the fin_data dataframe with the df_st_movies dataframe\n",
    "joined=grouped.join(df_st_movies.set_index(\"studio_name\"))\n",
    "joined=joined.drop('year', axis=1)\n",
    "joined['avg_gross']=joined['total_gross']/joined['total_movies_produced']\n",
    "\n",
    "# Change data type so the numbers are not displayed in scientific format\n",
    "joined=joined.astype('int64')\n",
    "\n",
    "# Sort the new dataframe by avg_gross\n",
    "joined.sort_values('avg_gross', ascending=False)"
   ]
  },
  {
   "cell_type": "code",
   "execution_count": 11,
   "metadata": {},
   "outputs": [],
   "source": [
    "# The above table shows that there are many studios which haven't produced many movies\n",
    "# Microsoft is a big company with significant financial resources\n",
    "# To ensure the data is more comprehensive, we only want to look at studios with a track record\n",
    "# Create another table showing only the studios that have released 50 or more movies\n",
    "joined2=joined.drop(joined[joined['total_movies_produced']<50].index)\n",
    "\n",
    "# Sort the new dataframe by avg_gross\n",
    "joined2=joined2.sort_values(by='avg_gross', ascending=False)"
   ]
  },
  {
   "cell_type": "code",
   "execution_count": 12,
   "metadata": {
    "scrolled": false
   },
   "outputs": [
    {
     "data": {
      "text/plain": [
       "<AxesSubplot:xlabel='studio', ylabel='Average Gross Proceeds per Movie (in $100M)'>"
      ]
     },
     "execution_count": 12,
     "metadata": {},
     "output_type": "execute_result"
    },
    {
     "data": {
      "image/png": "[encoded data removed]",
      "text/plain": [
       "<Figure size 1800x1080 with 1 Axes>"
      ]
     },
     "metadata": {
      "needs_background": "light"
     },
     "output_type": "display_data"
    }
   ],
   "source": [
    "# Visualize the data\n",
    "joined2.plot(y='avg_gross', ylabel= 'Average Gross Proceeds per Movie (in $100M)', kind='bar', figsize=(25,15))"
   ]
  },
  {
   "cell_type": "code",
   "execution_count": 13,
   "metadata": {},
   "outputs": [
    {
     "data": {
      "text/plain": [
       "Text(0.5, 0, 'Studio')"
      ]
     },
     "execution_count": 13,
     "metadata": {},
     "output_type": "execute_result"
    },
    {
     "data": {
      "image/png": "[encoded data removed]",
      "text/plain": [
       "<Figure size 1080x720 with 1 Axes>"
      ]
     },
     "metadata": {
      "needs_background": "light"
     },
     "output_type": "display_data"
    }
   ],
   "source": [
    "# Condense the previous graph to show the top 5, sorted, and emphasize BV studios' prominence\n",
    "studioplot= joined2.head().plot(y='avg_gross', fontsize=12, kind='bar', figsize=(15,10), color='lightblue')\n",
    "\n",
    "# Set axes titles and font size for improved readability \n",
    "studioplot.set_title(\"Top 5 Studios by Average Gross Proceeds per Movie\", fontsize=20)\n",
    "studioplot.set_ylabel(\"Average Gross Proceeds per Movie (in $100M)\", fontsize=18)\n",
    "studioplot.set_xlabel(\"Studio\", fontsize=18)"
   ]
  },
  {
   "cell_type": "code",
   "execution_count": 14,
   "metadata": {},
   "outputs": [
    {
     "name": "stdout",
     "output_type": "stream",
     "text": [
      "The most financially successful studio is BV, followed by Fox, WB, Sony, and Universal\n"
     ]
    }
   ],
   "source": [
    "print(\"The most financially successful studio is BV, followed by Fox, WB, Sony, and Universal\")"
   ]
  },
  {
   "cell_type": "markdown",
   "metadata": {},
   "source": [
    "### Common genres released by the most active studio\n",
    "Now that we know BV Studios generates the highest gross proceeds, it would be helpful to hone our focus onto the type of films they release"
   ]
  },
  {
   "cell_type": "code",
   "execution_count": 15,
   "metadata": {
    "scrolled": false
   },
   "outputs": [
    {
     "data": {
      "text/html": [
       "<div>\n",
       "<style scoped>\n",
       "    .dataframe tbody tr th:only-of-type {\n",
       "        vertical-align: middle;\n",
       "    }\n",
       "\n",
       "    .dataframe tbody tr th {\n",
       "        vertical-align: top;\n",
       "    }\n",
       "\n",
       "    .dataframe thead th {\n",
       "        text-align: right;\n",
       "    }\n",
       "</style>\n",
       "<table border=\"1\" class=\"dataframe\">\n",
       "  <thead>\n",
       "    <tr style=\"text-align: right;\">\n",
       "      <th></th>\n",
       "      <th>title</th>\n",
       "      <th>studio</th>\n",
       "      <th>domestic_gross</th>\n",
       "      <th>foreign_gross</th>\n",
       "      <th>year</th>\n",
       "      <th>total_gross</th>\n",
       "    </tr>\n",
       "  </thead>\n",
       "  <tbody>\n",
       "    <tr>\n",
       "      <th>727</th>\n",
       "      <td>Marvel's The Avengers</td>\n",
       "      <td>BV</td>\n",
       "      <td>623400000.0</td>\n",
       "      <td>895500000.0</td>\n",
       "      <td>2012</td>\n",
       "      <td>1518900000</td>\n",
       "    </tr>\n",
       "    <tr>\n",
       "      <th>1875</th>\n",
       "      <td>Avengers: Age of Ultron</td>\n",
       "      <td>BV</td>\n",
       "      <td>459000000.0</td>\n",
       "      <td>946400000.0</td>\n",
       "      <td>2015</td>\n",
       "      <td>1405400000</td>\n",
       "    </tr>\n",
       "    <tr>\n",
       "      <th>3080</th>\n",
       "      <td>Black Panther</td>\n",
       "      <td>BV</td>\n",
       "      <td>700100000.0</td>\n",
       "      <td>646900000.0</td>\n",
       "      <td>2018</td>\n",
       "      <td>1347000000</td>\n",
       "    </tr>\n",
       "    <tr>\n",
       "      <th>2758</th>\n",
       "      <td>Star Wars: The Last Jedi</td>\n",
       "      <td>BV</td>\n",
       "      <td>620200000.0</td>\n",
       "      <td>712400000.0</td>\n",
       "      <td>2017</td>\n",
       "      <td>1332600000</td>\n",
       "    </tr>\n",
       "    <tr>\n",
       "      <th>1127</th>\n",
       "      <td>Frozen</td>\n",
       "      <td>BV</td>\n",
       "      <td>400700000.0</td>\n",
       "      <td>875700000.0</td>\n",
       "      <td>2013</td>\n",
       "      <td>1276400000</td>\n",
       "    </tr>\n",
       "    <tr>\n",
       "      <th>...</th>\n",
       "      <td>...</td>\n",
       "      <td>...</td>\n",
       "      <td>...</td>\n",
       "      <td>...</td>\n",
       "      <td>...</td>\n",
       "      <td>...</td>\n",
       "    </tr>\n",
       "    <tr>\n",
       "      <th>889</th>\n",
       "      <td>People Like Us</td>\n",
       "      <td>BV</td>\n",
       "      <td>12400000.0</td>\n",
       "      <td>0.0</td>\n",
       "      <td>2012</td>\n",
       "      <td>12400000</td>\n",
       "    </tr>\n",
       "    <tr>\n",
       "      <th>2499</th>\n",
       "      <td>Queen of Katwe</td>\n",
       "      <td>BV</td>\n",
       "      <td>8900000.0</td>\n",
       "      <td>1500000.0</td>\n",
       "      <td>2016</td>\n",
       "      <td>10400000</td>\n",
       "    </tr>\n",
       "    <tr>\n",
       "      <th>512</th>\n",
       "      <td>Prom</td>\n",
       "      <td>BV</td>\n",
       "      <td>10100000.0</td>\n",
       "      <td>0.0</td>\n",
       "      <td>2011</td>\n",
       "      <td>10100000</td>\n",
       "    </tr>\n",
       "    <tr>\n",
       "      <th>1297</th>\n",
       "      <td>The Fifth Estate</td>\n",
       "      <td>BV</td>\n",
       "      <td>3300000.0</td>\n",
       "      <td>5300000.0</td>\n",
       "      <td>2013</td>\n",
       "      <td>8600000</td>\n",
       "    </tr>\n",
       "    <tr>\n",
       "      <th>304</th>\n",
       "      <td>Waking Sleeping Beauty</td>\n",
       "      <td>BV</td>\n",
       "      <td>80700.0</td>\n",
       "      <td>4200.0</td>\n",
       "      <td>2010</td>\n",
       "      <td>84900</td>\n",
       "    </tr>\n",
       "  </tbody>\n",
       "</table>\n",
       "<p>106 rows × 6 columns</p>\n",
       "</div>"
      ],
      "text/plain": [
       "                         title studio  domestic_gross  foreign_gross  year  \\\n",
       "727      Marvel's The Avengers     BV     623400000.0    895500000.0  2012   \n",
       "1875   Avengers: Age of Ultron     BV     459000000.0    946400000.0  2015   \n",
       "3080             Black Panther     BV     700100000.0    646900000.0  2018   \n",
       "2758  Star Wars: The Last Jedi     BV     620200000.0    712400000.0  2017   \n",
       "1127                    Frozen     BV     400700000.0    875700000.0  2013   \n",
       "...                        ...    ...             ...            ...   ...   \n",
       "889             People Like Us     BV      12400000.0            0.0  2012   \n",
       "2499            Queen of Katwe     BV       8900000.0      1500000.0  2016   \n",
       "512                       Prom     BV      10100000.0            0.0  2011   \n",
       "1297          The Fifth Estate     BV       3300000.0      5300000.0  2013   \n",
       "304     Waking Sleeping Beauty     BV         80700.0         4200.0  2010   \n",
       "\n",
       "      total_gross  \n",
       "727    1518900000  \n",
       "1875   1405400000  \n",
       "3080   1347000000  \n",
       "2758   1332600000  \n",
       "1127   1276400000  \n",
       "...           ...  \n",
       "889      12400000  \n",
       "2499     10400000  \n",
       "512      10100000  \n",
       "1297      8600000  \n",
       "304         84900  \n",
       "\n",
       "[106 rows x 6 columns]"
      ]
     },
     "execution_count": 15,
     "metadata": {},
     "output_type": "execute_result"
    }
   ],
   "source": [
    "# Create a dataframe of movies produced by BV studios, sorted by total_gross in descending order\n",
    "bv_movies=fin_data[fin_data['studio']=='BV'].sort_values('total_gross', ascending=False)\n",
    "bv_movies"
   ]
  },
  {
   "cell_type": "code",
   "execution_count": 16,
   "metadata": {
    "scrolled": false
   },
   "outputs": [
    {
     "data": {
      "text/plain": [
       "[\"Marvel's The Avengers\",\n",
       " 'Avengers: Age of Ultron',\n",
       " 'Black Panther',\n",
       " 'Star Wars: The Last Jedi',\n",
       " 'Frozen',\n",
       " 'Beauty and the Beast (2017)',\n",
       " 'Incredibles 2',\n",
       " 'Iron Man 3',\n",
       " 'Captain America: Civil War',\n",
       " 'Toy Story 3',\n",
       " 'Rogue One: A Star Wars Story',\n",
       " 'Pirates of the Caribbean: On Stranger Tides',\n",
       " 'Finding Dory',\n",
       " 'Alice in Wonderland (2010)',\n",
       " 'Zootopia',\n",
       " 'The Jungle Book (2016)',\n",
       " 'Star Wars: The Force Awakens',\n",
       " 'Guardians of the Galaxy Vol. 2',\n",
       " 'Inside Out',\n",
       " 'Thor: Ragnarok']"
      ]
     },
     "execution_count": 16,
     "metadata": {},
     "output_type": "execute_result"
    }
   ],
   "source": [
    "# Data of BV Studio movies is sorted by total gross\n",
    "# Look at BV Studios' top 20 movies in terms of total gross proceeds\n",
    "# Pass the title of the top 20 financially successful movies by BV studios into a list\n",
    "top_bv_titles=list(fin_data[fin_data['studio']=='BV'].sort_values('total_gross', ascending=False).head(20)['title'])\n",
    "top_bv_titles"
   ]
  },
  {
   "cell_type": "code",
   "execution_count": 17,
   "metadata": {
    "scrolled": false
   },
   "outputs": [],
   "source": [
    "# Use the list of BV movie titles to extract BV's top 20 financially successful movies from IMDB's database\n",
    "# Look at the IMDB movie_basics table\n",
    "# Exclude entries with null values\n",
    "query1=pd.read_sql('''SELECT * FROM movie_basics WHERE primary_title IN (\"Marvel's The Avengers\",\n",
    " 'Avengers: Age of Ultron',\n",
    " 'Black Panther',\n",
    " 'Star Wars: The Last Jedi',\n",
    " 'Frozen',\n",
    " 'Beauty and the Beast (2017)',\n",
    " 'Incredibles 2',\n",
    " 'Iron Man 3',\n",
    " 'Captain America: Civil War',\n",
    " 'Toy Story 3',\n",
    " 'Rogue One: A Star Wars Story',\n",
    " 'Pirates of the Caribbean: On Stranger Tides',\n",
    " 'Finding Dory',\n",
    " 'Alice in Wonderland (2010)',\n",
    " 'Zootopia',\n",
    " 'The Jungle Book (2016)',\n",
    " 'Star Wars: The Force Awakens',\n",
    " 'Guardians of the Galaxy Vol. 2',\n",
    " 'Inside Out',\n",
    " 'Thor: Ragnarok')\n",
    " AND runtime_minutes IS NOT NULL AND genres IS NOT NULL''', con)"
   ]
  },
  {
   "cell_type": "code",
   "execution_count": 18,
   "metadata": {},
   "outputs": [
    {
     "data": {
      "text/html": [
       "<div>\n",
       "<style scoped>\n",
       "    .dataframe tbody tr th:only-of-type {\n",
       "        vertical-align: middle;\n",
       "    }\n",
       "\n",
       "    .dataframe tbody tr th {\n",
       "        vertical-align: top;\n",
       "    }\n",
       "\n",
       "    .dataframe thead th {\n",
       "        text-align: right;\n",
       "    }\n",
       "</style>\n",
       "<table border=\"1\" class=\"dataframe\">\n",
       "  <thead>\n",
       "    <tr style=\"text-align: right;\">\n",
       "      <th></th>\n",
       "      <th>genres</th>\n",
       "      <th>count</th>\n",
       "    </tr>\n",
       "  </thead>\n",
       "  <tbody>\n",
       "    <tr>\n",
       "      <th>0</th>\n",
       "      <td>Adventure,Animation,Comedy</td>\n",
       "      <td>5</td>\n",
       "    </tr>\n",
       "    <tr>\n",
       "      <th>1</th>\n",
       "      <td>Action,Adventure,Sci-Fi</td>\n",
       "      <td>5</td>\n",
       "    </tr>\n",
       "    <tr>\n",
       "      <th>2</th>\n",
       "      <td>Action,Adventure,Comedy</td>\n",
       "      <td>2</td>\n",
       "    </tr>\n",
       "    <tr>\n",
       "      <th>3</th>\n",
       "      <td>Action,Adventure,Fantasy</td>\n",
       "      <td>2</td>\n",
       "    </tr>\n",
       "    <tr>\n",
       "      <th>4</th>\n",
       "      <td>Fantasy,Romance</td>\n",
       "      <td>1</td>\n",
       "    </tr>\n",
       "    <tr>\n",
       "      <th>5</th>\n",
       "      <td>Family</td>\n",
       "      <td>1</td>\n",
       "    </tr>\n",
       "    <tr>\n",
       "      <th>6</th>\n",
       "      <td>Documentary</td>\n",
       "      <td>1</td>\n",
       "    </tr>\n",
       "    <tr>\n",
       "      <th>7</th>\n",
       "      <td>Crime,Drama</td>\n",
       "      <td>1</td>\n",
       "    </tr>\n",
       "    <tr>\n",
       "      <th>8</th>\n",
       "      <td>Biography,Documentary,History</td>\n",
       "      <td>1</td>\n",
       "    </tr>\n",
       "    <tr>\n",
       "      <th>9</th>\n",
       "      <td>Adventure,Drama,Sport</td>\n",
       "      <td>1</td>\n",
       "    </tr>\n",
       "    <tr>\n",
       "      <th>10</th>\n",
       "      <td>Action,Adventure,Animation</td>\n",
       "      <td>1</td>\n",
       "    </tr>\n",
       "  </tbody>\n",
       "</table>\n",
       "</div>"
      ],
      "text/plain": [
       "                           genres  count\n",
       "0      Adventure,Animation,Comedy      5\n",
       "1         Action,Adventure,Sci-Fi      5\n",
       "2         Action,Adventure,Comedy      2\n",
       "3        Action,Adventure,Fantasy      2\n",
       "4                 Fantasy,Romance      1\n",
       "5                          Family      1\n",
       "6                     Documentary      1\n",
       "7                     Crime,Drama      1\n",
       "8   Biography,Documentary,History      1\n",
       "9           Adventure,Drama,Sport      1\n",
       "10     Action,Adventure,Animation      1"
      ]
     },
     "execution_count": 18,
     "metadata": {},
     "output_type": "execute_result"
    }
   ],
   "source": [
    "# Pass query1 into a dataframe for visualization later\n",
    "df=pd.DataFrame(query1)\n",
    "\n",
    "# Create a new sub dataframe that takes the unique genre combinations of BV movies and returns the count/frequency\n",
    "bv_genres = df['genres'].value_counts()\n",
    "df_bv_genres = pd.DataFrame(bv_genres)\n",
    "df_bv_genres = df_bv_genres.reset_index()\n",
    "df_bv_genres.columns = ['genres', 'count']\n",
    "df_bv_genres"
   ]
  },
  {
   "cell_type": "code",
   "execution_count": 19,
   "metadata": {},
   "outputs": [
    {
     "data": {
      "text/plain": [
       "Text(0.5, 1.0, \"Frequency of Genre Combinations in BV Studios' 20 Highest Grossing Films\")"
      ]
     },
     "execution_count": 19,
     "metadata": {},
     "output_type": "execute_result"
    },
    {
     "data": {
      "image/png": "[encoded data removed]",
      "text/plain": [
       "<Figure size 1440x1080 with 1 Axes>"
      ]
     },
     "metadata": {
      "needs_background": "light"
     },
     "output_type": "display_data"
    }
   ],
   "source": [
    "# Visualize the dataframe to determine the most common genre combination for BV's movies highest 20 grossing films\n",
    "df_bv_genres.plot(x='genres', y='count', kind='barh', figsize=(20,15), color='green')\n",
    "plt.xlabel('Frequency', size=12)\n",
    "plt.ylabel('Genre Combinations', size=12)\n",
    "plt.title(\"Frequency of Genre Combinations in BV Studios' 20 Highest Grossing Films\", size=20)"
   ]
  },
  {
   "cell_type": "code",
   "execution_count": 20,
   "metadata": {},
   "outputs": [
    {
     "data": {
      "text/plain": [
       "Text(0.5, 1.0, \"Frequency of Genre Combinations in BV Studios' 20 Highest Grossing Films\")"
      ]
     },
     "execution_count": 20,
     "metadata": {},
     "output_type": "execute_result"
    },
    {
     "data": {
      "image/png": "[encoded data removed]",
      "text/plain": [
       "<Figure size 1440x360 with 1 Axes>"
      ]
     },
     "metadata": {
      "needs_background": "light"
     },
     "output_type": "display_data"
    }
   ],
   "source": [
    "# Present the above visualization to emphasize the top 3 genre combinations\n",
    "df_bv_genres.head(3).plot(x='genres', y='count', kind='barh', figsize=(20,5), color='green', fontsize=12)\n",
    "plt.xlabel('Frequency', size=18)\n",
    "plt.ylabel('Genre Combinations', size=18)\n",
    "plt.title(\"Frequency of Genre Combinations in BV Studios' 20 Highest Grossing Films\", size=20)"
   ]
  },
  {
   "cell_type": "code",
   "execution_count": 21,
   "metadata": {},
   "outputs": [
    {
     "name": "stdout",
     "output_type": "stream",
     "text": [
      "The top three financially successful genre combinations in movies produced by BV studios are:\n",
      " Action/Adventure/Sci-Fi\n",
      " Adventure/Animation/Comedy\n",
      " Action/Adventure/Comedy\n"
     ]
    }
   ],
   "source": [
    "# Print conclusion from the graph\n",
    "print(\"The top three financially successful genre combinations in movies produced by BV studios are:\\n Action/Adventure/Sci-Fi\\n Adventure/Animation/Comedy\\n Action/Adventure/Comedy\")"
   ]
  },
  {
   "cell_type": "markdown",
   "metadata": {},
   "source": [
    "### Successful crew in show business\n",
    "When we think of movies, we often think of the famous cast members; however, the production crew is just as important - fortunately, IMDB records that data which allows us to look at who's behind the camera in successful movies"
   ]
  },
  {
   "cell_type": "code",
   "execution_count": 22,
   "metadata": {},
   "outputs": [],
   "source": [
    "# SQL query to pull the directors that were hired for BV Studios' 20 most financially successful films\n",
    "# Use multiple joins\n",
    "query2=pd.read_sql(\"\"\"SELECT p.primary_name, mb.primary_title, mr.averagerating FROM persons p\n",
    "                    JOIN directors d\n",
    "                    ON d.person_id=p.person_id\n",
    "                    JOIN movie_basics mb \n",
    "                    ON mb.movie_id=d.movie_id\n",
    "                    JOIN movie_ratings mr\n",
    "                    ON mr.movie_id=mb.movie_id\n",
    "                    WHERE mb.primary_title IN (\"Marvel's The Avengers\",\n",
    "                 'Avengers: Age of Ultron',\n",
    "                 'Black Panther',\n",
    "                 'Star Wars: The Last Jedi',\n",
    "                 'Frozen',\n",
    "                 'Beauty and the Beast (2017)',\n",
    "                 'Incredibles 2',\n",
    "                 'Iron Man 3',\n",
    "                 'Captain America: Civil War',\n",
    "                 'Toy Story 3',\n",
    "                 'Rogue One: A Star Wars Story',\n",
    "                 'Pirates of the Caribbean: On Stranger Tides',\n",
    "                 'Finding Dory',\n",
    "                 'Alice in Wonderland (2010)',\n",
    "                 'Zootopia',\n",
    "                 'The Jungle Book (2016)',\n",
    "                 'Star Wars: The Force Awakens',\n",
    "                 'Guardians of the Galaxy Vol. 2',\n",
    "                 'Inside Out',\n",
    "                 'Thor: Ragnarok')\n",
    "                    GROUP BY primary_name\n",
    "                    ORDER BY averagerating DESC\"\"\", con)\n",
    "\n",
    "# Pass query2 into dataframe for visualization later\n",
    "df_people=pd.DataFrame(query2)"
   ]
  },
  {
   "cell_type": "code",
   "execution_count": 25,
   "metadata": {
    "scrolled": false
   },
   "outputs": [
    {
     "data": {
      "text/plain": [
       "Text(0, 0.5, 'Movie Rating')"
      ]
     },
     "execution_count": 25,
     "metadata": {},
     "output_type": "execute_result"
    },
    {
     "data": {
      "image/png": "[encoded data removed]",
      "text/plain": [
       "<Figure size 1440x720 with 1 Axes>"
      ]
     },
     "metadata": {
      "needs_background": "light"
     },
     "output_type": "display_data"
    }
   ],
   "source": [
    "# Visualize the dataframe of directors behind BV's 20 highest grossing films\n",
    "# Filter to visualize only the directors of movies that received a rating of 7 or higher\n",
    "ax2=df_people[df_people['averagerating']>=7].plot('primary_name', kind='bar', color='turquoise', figsize=(20,10), fontsize=12)\n",
    "ax2.set_title(\"Directors for the 20 Highest Grossing BV Studio Films, Rated Above 7\", fontsize=20)\n",
    "ax2.set_xlabel('Primary Name', fontsize=18)\n",
    "ax2.set_ylabel('Movie Rating', fontsize=18)"
   ]
  },
  {
   "cell_type": "code",
   "execution_count": 24,
   "metadata": {
    "scrolled": false
   },
   "outputs": [
    {
     "name": "stdout",
     "output_type": "stream",
     "text": [
      "Microsoft can use the above data and visualization when deciding who to hire as the director for their movie projects\n"
     ]
    }
   ],
   "source": [
    "print(\"Microsoft can use the above data and visualization when deciding who to hire as the director for their movie projects\")"
   ]
  },
  {
   "cell_type": "markdown",
   "metadata": {},
   "source": [
    "--- \n",
    "## Conclusions / Recommendations\n",
    "The data analysis process yields several insights:\n",
    "* Microsoft should keep their movie run times consistent with or near the industry average of 86 minutes, ideally between 75-100 minutes\n",
    "* BV Studios' highest 20 grossing films were mostly within the genre combinations of Action/Adventure/Sci-Fi, Adventure/Animation/Comedy, and Action/Adventure/Comedy - Microsoft should focus on specializing in movies with these genres, especially the theme of Adventure\n",
    "* When people think of movies, they often only remember famous cast members, however, selecting the crew behind the camera is just as important - Microsoft should look to hire directors such as Lee Unkrich and Ronnie Del Carmen, who were involved in the production for BV Studios' 20 highest grossing films that received strong ratings of 7 or above\n",
    "\n",
    "## Data Considerations and Limitations\n",
    "For further exploration as Microsoft builds out their studio, the following can be considered:\n",
    "* Look at the available budget and compare it to gross proceeds, as some companies have more resources than others\n",
    "* Conduct data analysis of which type of movies have been popular during different years, as public preferences often change\n",
    "* Much of a movie's success is also due to how well it's remembered - future data analysis can also look at how long a movie was being showed since release or how many replays a movie received on streaming platforms like Netflix/Hulu\n",
    "\n",
    "## Additional Information\n",
    "A summary of findings can be found in this [deliverable](https://github.com/keziasetokusumo/p1_project/blob/master/p1_project_deliverable.pdf)"
   ]
  }
 ],
 "metadata": {
  "kernelspec": {
   "display_name": "Python (learn-env)",
   "language": "python",
   "name": "learn-env"
  },
  "language_info": {
   "codemirror_mode": {
    "name": "ipython",
    "version": 3
   },
   "file_extension": ".py",
   "mimetype": "text/x-python",
   "name": "python",
   "nbconvert_exporter": "python",
   "pygments_lexer": "ipython3",
   "version": "3.8.5"
  }
 },
 "nbformat": 4,
 "nbformat_minor": 5
}
